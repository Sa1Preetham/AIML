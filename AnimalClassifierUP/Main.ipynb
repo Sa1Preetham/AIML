{
 "cells": [
  {
   "cell_type": "code",
   "execution_count": 1,
   "metadata": {},
   "outputs": [
    {
     "name": "stderr",
     "output_type": "stream",
    }]
   ],
   "source": [
    "import torch  # type: ignore\n",
    "from torch.utils.data import DataLoader, Dataset, random_split # type: ignore\n",
    "import torchvision.transforms as transforms # type: ignore\n",
    "from torchvision.datasets import ImageFolder\n",
    "import matplotlib.pyplot as plt\n",
    "from glob import glob\n",
    "import utils\n",
    "from utils import Classifier, trainModel, testModel\n",
    "import cv2 as cv "
   ]
  },
  {
   "cell_type": "code",
   "execution_count": 2,
   "metadata": {},
   "outputs": [],
   "source": [
    "class Data(Dataset):\n",
    "\n",
    "    def __init__(self, datadir, transform= None) -> None:\n",
    "        self.data = ImageFolder(datadir, transform=transform)\n",
    "    \n",
    "    def __len__(self):\n",
    "        return len(self.data)\n",
    "    \n",
    "    def __getitem__(self, index):\n",
    "        return self.data[index]\n",
    "    \n",
    "    @property\n",
    "    def classes(self):\n",
    "        return self.data.classes\n",
    "    \n",
    "transform = transforms.Compose([\n",
    "    transforms.Resize((128, 128)),\n",
    "    transforms.ToTensor(),\n",
    "\n",
    "])\n",
    "\n"
   ]
  },
  {
   "cell_type": "code",
   "execution_count": 3,
   "metadata": {},
   "outputs": [
    {
     "name": "stdout",
     "output_type": "stream",
     "text": [
      "(tensor([[[0.8078, 0.8078, 0.8039,  ..., 0.8078, 0.8118, 0.8157],\n",
      "         [0.7961, 0.7961, 0.7922,  ..., 0.8275, 0.8353, 0.8431],\n",
      "         [0.7686, 0.7686, 0.7647,  ..., 0.8627, 0.8706, 0.8784],\n",
      "         ...,\n",
      "         [0.8235, 0.8549, 0.8667,  ..., 0.8471, 0.8549, 0.8627],\n",
      "         [0.7804, 0.8235, 0.8588,  ..., 0.8471, 0.8549, 0.8471],\n",
      "         [0.8235, 0.8431, 0.8706,  ..., 0.8392, 0.8431, 0.8353]],\n",
      "\n",
      "        [[0.8824, 0.8824, 0.8784,  ..., 0.8824, 0.8824, 0.8863],\n",
      "         [0.8706, 0.8706, 0.8667,  ..., 0.9020, 0.9059, 0.9137],\n",
      "         [0.8510, 0.8510, 0.8471,  ..., 0.9294, 0.9373, 0.9412],\n",
      "         ...,\n",
      "         [0.6588, 0.6902, 0.7020,  ..., 0.6431, 0.6510, 0.6588],\n",
      "         [0.6235, 0.6667, 0.7020,  ..., 0.6431, 0.6471, 0.6431],\n",
      "         [0.6667, 0.6863, 0.7137,  ..., 0.6314, 0.6353, 0.6275]],\n",
      "\n",
      "        [[0.9490, 0.9490, 0.9451,  ..., 0.9412, 0.9373, 0.9412],\n",
      "         [0.9373, 0.9373, 0.9333,  ..., 0.9569, 0.9608, 0.9686],\n",
      "         [0.9216, 0.9216, 0.9176,  ..., 0.9804, 0.9882, 0.9922],\n",
      "         ...,\n",
      "         [0.5176, 0.5529, 0.5647,  ..., 0.4549, 0.4627, 0.4706],\n",
      "         [0.4824, 0.5255, 0.5608,  ..., 0.4627, 0.4667, 0.4627],\n",
      "         [0.5255, 0.5451, 0.5725,  ..., 0.4588, 0.4627, 0.4549]]]), 8)\n"
     ]
    },
    {
     "data": {
      "text/plain": [
       "(tensor([[[0.6078, 0.6000, 0.6078,  ..., 0.9373, 0.9412, 0.9412],\n",
       "          [0.5843, 0.5804, 0.5686,  ..., 0.9294, 0.9333, 0.9294],\n",
       "          [0.5490, 0.5373, 0.5529,  ..., 0.9294, 0.9373, 0.9333],\n",
       "          ...,\n",
       "          [0.2275, 0.2588, 0.3176,  ..., 0.4471, 0.5137, 0.5922],\n",
       "          [0.3961, 0.2431, 0.2157,  ..., 0.4667, 0.5608, 0.6118],\n",
       "          [0.4196, 0.3686, 0.4157,  ..., 0.6824, 0.6353, 0.4784]],\n",
       " \n",
       "         [[0.6588, 0.6510, 0.6510,  ..., 0.9412, 0.9451, 0.9451],\n",
       "          [0.6353, 0.6275, 0.6118,  ..., 0.9333, 0.9373, 0.9333],\n",
       "          [0.6078, 0.5882, 0.5961,  ..., 0.9333, 0.9412, 0.9373],\n",
       "          ...,\n",
       "          [0.2157, 0.2431, 0.3098,  ..., 0.4039, 0.4745, 0.5608],\n",
       "          [0.3686, 0.2196, 0.1961,  ..., 0.4157, 0.5059, 0.5647],\n",
       "          [0.3882, 0.3373, 0.3922,  ..., 0.6275, 0.5686, 0.4235]],\n",
       " \n",
       "         [[0.6118, 0.5922, 0.5961,  ..., 0.9608, 0.9647, 0.9647],\n",
       "          [0.5843, 0.5765, 0.5725,  ..., 0.9529, 0.9569, 0.9529],\n",
       "          [0.5647, 0.5529, 0.5725,  ..., 0.9529, 0.9608, 0.9569],\n",
       "          ...,\n",
       "          [0.1686, 0.2000, 0.2667,  ..., 0.3412, 0.4118, 0.5059],\n",
       "          [0.3176, 0.1686, 0.1451,  ..., 0.3255, 0.4314, 0.5059],\n",
       "          [0.3216, 0.2784, 0.3373,  ..., 0.5255, 0.4902, 0.3686]]]),\n",
       " 0)"
      ]
     },
     "execution_count": 3,
     "metadata": {},
     "output_type": "execute_result"
    }
   ],
   "source": [
    "data = Data('animal_data', transform=transform)\n",
    "\n",
    "train, test, valid = map(list, random_split(data, [0.7, 0.2, 0.1]))\n",
    "train = train[:-1]\n",
    "print(train[0])\n",
    "\n",
    "data.__getitem__(0)\n"
   ]
  },
  {
   "cell_type": "code",
   "execution_count": 4,
   "metadata": {},
   "outputs": [],
   "source": [
    "# Hyper parameters for the model\n",
    "batch_size = 40\n"
   ]
  },
  {
   "cell_type": "code",
   "execution_count": 5,
   "metadata": {},
   "outputs": [
    {
     "data": {
      "text/plain": [
       "34"
      ]
     },
     "execution_count": 5,
     "metadata": {},
     "output_type": "execute_result"
    }
   ],
   "source": [
    "train_loader = DataLoader(train, batch_size=batch_size, shuffle=True)\n",
    "valid_loader = DataLoader(valid, batch_size=batch_size, shuffle=False)\n",
    "test_loader = DataLoader(test, batch_size=batch_size, shuffle=False)\n",
    "train_loader.__len__()\n"
   ]
  },
  {
   "cell_type": "code",
   "execution_count": 6,
   "metadata": {},
   "outputs": [],
   "source": [
    "model = Classifier(classes=15)\n",
    "optimizer = torch.optim.Adam(params=model.parameters())\n",
    "criterion = torch.nn.CrossEntropyLoss()"
   ]
  },
  {
   "cell_type": "code",
   "execution_count": 18,
   "metadata": {},
   "outputs": [],
   "source": [
    "# trainModel(model, 20, optimizer, criterion, train_loader, valid_loader, True)"
   ]
  },
  {
   "cell_type": "code",
   "execution_count": 7,
   "metadata": {},
   "outputs": [],
   "source": [
    "import pickle\n",
    "\n",
    "\n",
    "with open('model_final.pkl', 'rb') as file:\n",
    "    new_model = pickle.load(file)"
   ]
  },
  {
   "cell_type": "code",
   "execution_count": 8,
   "metadata": {},
   "outputs": [
    {
     "name": "stderr",
     "output_type": "stream",
     "text": [
      "Testing::   0%|          | 0/10 [00:00<?, ?it/s]"
     ]
    },
    {
     "name": "stderr",
     "output_type": "stream",
     "text": [
      "Testing:: 100%|██████████| 10/10 [00:02<00:00,  3.46it/s]"
     ]
    },
    {
     "name": "stdout",
     "output_type": "stream",
     "text": [
      "Running Loss: 0.03129509346825736 \n",
      " Average Loss Per Batch: 0.003129509346825736; ===100.0%\n"
     ]
    },
    {
     "name": "stderr",
     "output_type": "stream",
     "text": [
      "\n"
     ]
    }
   ],
   "source": [
    "testModel(new_model, criterion, test_loader)"
   ]
  }
 ],
 "metadata": {
  "kernelspec": {
   "display_name": "Python 3",
   "language": "python",
   "name": "python3"
  },
  "language_info": {
   "codemirror_mode": {
    "name": "ipython",
    "version": 3
   },
   "file_extension": ".py",
   "mimetype": "text/x-python",
   "name": "python",
   "nbconvert_exporter": "python",
   "pygments_lexer": "ipython3",
   "version": "3.12.2"
  }
 },
 "nbformat": 4,
 "nbformat_minor": 2
}
